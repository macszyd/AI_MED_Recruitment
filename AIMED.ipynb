{
 "cells": [
  {
   "cell_type": "code",
   "id": "initial_id",
   "metadata": {
    "collapsed": true,
    "ExecuteTime": {
     "end_time": "2025-10-31T10:53:11.286688300Z",
     "start_time": "2025-10-31T10:52:56.347891Z"
    }
   },
   "source": [
    "import sns\n",
    "from sklearn.metrics import accuracy_score, confusion_matrix, classification_report\n",
    "from sklearn.model_selection import GridSearchCV, RepeatedStratifiedKFold, cross_val_predict, cross_val_score, train_test_split\n",
    "from sklearn.preprocessing import StandardScaler\n",
    "from sklearn.neighbors import KNeighborsClassifier\n",
    "from sklearn.tree import DecisionTreeClassifier\n",
    "from sklearn.svm import SVC\n",
    "from sklearn.linear_model import LogisticRegression\n",
    "from sklearn.ensemble import RandomForestClassifier, VotingClassifier\n",
    "from sklearn.gaussian_process import GaussianProcessClassifier\n",
    "from sklearn.gaussian_process.kernels import RBF\n",
    "from sklearn.naive_bayes import GaussianNB\n",
    "from sklearn.pipeline import Pipeline\n",
    "import pandas as pd\n",
    "import numpy as np\n",
    "import matplotlib.pyplot as plt\n"
   ],
   "outputs": [],
   "execution_count": 70
  },
  {
   "metadata": {
    "ExecuteTime": {
     "end_time": "2025-10-31T10:53:11.288686Z",
     "start_time": "2025-10-31T10:52:57.140776Z"
    }
   },
   "cell_type": "code",
   "source": "",
   "id": "b5c32036e297f2aa",
   "outputs": [],
   "execution_count": null
  },
  {
   "metadata": {
    "ExecuteTime": {
     "end_time": "2025-10-31T10:53:11.292687300Z",
     "start_time": "2025-10-31T10:52:57.152053Z"
    }
   },
   "cell_type": "code",
   "source": [
    "\n",
    "df = pd.read_csv('task_data.csv')\n",
    "\n",
    "df.info()\n",
    "columns_to_fix = ['CTR - Cardiothoracic Ratio', 'Inscribed circle radius', 'Heart perimeter']\n",
    "for col in columns_to_fix:\n",
    "    if col in df.columns:\n",
    "        #replacing , with . and changing type to float\n",
    "        df[col] = df[col].astype(str).str.replace(',', '.')\n",
    "        df[col] = pd.to_numeric(df[col], errors='coerce')\n",
    "df.info()"
   ],
   "id": "60d8cd2d278434e8",
   "outputs": [
    {
     "name": "stdout",
     "output_type": "stream",
     "text": [
      "<class 'pandas.core.frame.DataFrame'>\n",
      "RangeIndex: 37 entries, 0 to 36\n",
      "Data columns (total 14 columns):\n",
      " #   Column                      Non-Null Count  Dtype  \n",
      "---  ------                      --------------  -----  \n",
      " 0   ID                          37 non-null     int64  \n",
      " 1   Cardiomegaly                37 non-null     int64  \n",
      " 2   Heart width                 37 non-null     int64  \n",
      " 3   Lung width                  37 non-null     int64  \n",
      " 4   CTR - Cardiothoracic Ratio  37 non-null     object \n",
      " 5   xx                          37 non-null     float64\n",
      " 6   yy                          37 non-null     float64\n",
      " 7   xy                          37 non-null     float64\n",
      " 8   normalized_diff             37 non-null     float64\n",
      " 9   Inscribed circle radius     37 non-null     object \n",
      " 10  Polygon Area Ratio          37 non-null     float64\n",
      " 11  Heart perimeter             37 non-null     object \n",
      " 12  Heart area                  37 non-null     int64  \n",
      " 13  Lung area                   37 non-null     int64  \n",
      "dtypes: float64(5), int64(6), object(3)\n",
      "memory usage: 4.2+ KB\n",
      "<class 'pandas.core.frame.DataFrame'>\n",
      "RangeIndex: 37 entries, 0 to 36\n",
      "Data columns (total 14 columns):\n",
      " #   Column                      Non-Null Count  Dtype  \n",
      "---  ------                      --------------  -----  \n",
      " 0   ID                          37 non-null     int64  \n",
      " 1   Cardiomegaly                37 non-null     int64  \n",
      " 2   Heart width                 37 non-null     int64  \n",
      " 3   Lung width                  37 non-null     int64  \n",
      " 4   CTR - Cardiothoracic Ratio  37 non-null     float64\n",
      " 5   xx                          37 non-null     float64\n",
      " 6   yy                          37 non-null     float64\n",
      " 7   xy                          37 non-null     float64\n",
      " 8   normalized_diff             37 non-null     float64\n",
      " 9   Inscribed circle radius     37 non-null     float64\n",
      " 10  Polygon Area Ratio          37 non-null     float64\n",
      " 11  Heart perimeter             37 non-null     float64\n",
      " 12  Heart area                  37 non-null     int64  \n",
      " 13  Lung area                   37 non-null     int64  \n",
      "dtypes: float64(8), int64(6)\n",
      "memory usage: 4.2 KB\n"
     ]
    }
   ],
   "execution_count": 71
  },
  {
   "metadata": {
    "ExecuteTime": {
     "end_time": "2025-10-31T10:53:11.294112Z",
     "start_time": "2025-10-31T10:52:57.172138Z"
    }
   },
   "cell_type": "code",
   "source": [
    "X = df[[\"Heart width\", \"Lung width\", \"CTR - Cardiothoracic Ratio\", \"xx\", \"yy\", \"xy\",\"normalized_diff\", \"Inscribed circle radius\", \"Polygon Area Ratio\", \"Heart perimeter\", \"Heart area \", \"Lung area\" ]]\n",
    "#selecting data to learn\n",
    "y = df[\"Cardiomegaly\"]\n",
    "#spliting data\n",
    "X_train, X_test, y_train, y_test = train_test_split(X,y, test_size = 0.2, random_state =42)\n",
    "#scailing\n",
    "scaler = StandardScaler()\n",
    "X_scaled_train = scaler.fit_transform(X_train)\n",
    "X_scaled_test = scaler.transform(X_test)"
   ],
   "id": "4e50c91c3d81b6de",
   "outputs": [],
   "execution_count": 72
  },
  {
   "metadata": {
    "ExecuteTime": {
     "end_time": "2025-10-31T10:53:10.980112Z",
     "start_time": "2025-10-31T10:52:57.189377Z"
    }
   },
   "cell_type": "code",
   "source": [
    "#test of the parameters of knn\n",
    "param_grid = {\n",
    "    \"model__n_neighbors\": [3, 5, 7, 9, 11, 15],  # Number of neighbors to consider\n",
    "    \"model__weights\": [\"distance\"],   # How neighbors contribute to the prediction\n",
    "    \"model__metric\": [\"minkowski\", \"manhattan\", \"euclidean\", \"chebyshev\"],  # Distance metrics to test\n",
    "}\n",
    "\n",
    "\n",
    "rskf = RepeatedStratifiedKFold(\n",
    "    n_splits=5,\n",
    "    n_repeats=100,\n",
    "    random_state=None\n",
    ")\n",
    "\n",
    "pipe_knn = Pipeline(steps=[\n",
    "    (\"scaler\", StandardScaler()),           # Standardize data inside each CV fold\n",
    "    (\"model\", KNeighborsClassifier())       # The KNN model to be optimized\n",
    "])\n",
    "\n",
    "\n",
    "grid_search = GridSearchCV(\n",
    "    estimator=pipe_knn,          # The pipeline (scaler + model)\n",
    "    param_grid=param_grid,       # The grid of parameters to test\n",
    "    scoring=\"accuracy\",          # Metric used to evaluate model performance\n",
    "    cv=rskf,                     # Cross-validation strategy\n",
    "    verbose=1,                   # Display progress in the console\n",
    "    n_jobs=-1                    # Use all available CPU cores for faster processing\n",
    ")\n",
    "\n",
    "grid_search.fit(X_train, y_train)\n",
    "\n",
    "# Display the best results\n",
    "print(f\"Best parameters: {grid_search.best_params_}\")\n",
    "print(f\"Best accuracy (averaged CV): {grid_search.best_score_:.4f}\")"
   ],
   "id": "8793ae77a18803b",
   "outputs": [
    {
     "name": "stdout",
     "output_type": "stream",
     "text": [
      "Fitting 500 folds for each of 24 candidates, totalling 12000 fits\n",
      "Best parameters: {'model__metric': 'manhattan', 'model__n_neighbors': 5, 'model__weights': 'distance'}\n",
      "Best accuracy (averaged CV): 0.8277\n"
     ]
    }
   ],
   "execution_count": 73
  },
  {
   "metadata": {
    "ExecuteTime": {
     "end_time": "2025-10-31T10:53:11.069780Z",
     "start_time": "2025-10-31T10:53:11.036502Z"
    }
   },
   "cell_type": "code",
   "source": [
    "#KNN\n",
    "pipe_knn = Pipeline([('scaler', StandardScaler()), ('model', KNeighborsClassifier(\n",
    "    n_neighbors=5,\n",
    "    weights='distance',\n",
    "    metric='manhattan',\n",
    "))])\n",
    "cv_score = cross_val_score(pipe_knn, X_train, y_train)\n",
    "\n",
    "print(\"Scores of training data cross-validation (each fold):\")\n",
    "list(map(print, cv_score))\n",
    "print(f\"\\nCross-validation mean score: {np.mean(cv_score):.3}\")\n",
    "print(f\"Standard deviation of CV score: {np.std(cv_score):.3f}\")"
   ],
   "id": "fc1286eba585ee44",
   "outputs": [
    {
     "name": "stdout",
     "output_type": "stream",
     "text": [
      "Scores of training data cross-validation (each fold):\n",
      "0.8333333333333334\n",
      "1.0\n",
      "0.8333333333333334\n",
      "0.8333333333333334\n",
      "1.0\n",
      "\n",
      "Cross-validation mean score: 0.9\n",
      "Standard deviation of CV score: 0.082\n"
     ]
    }
   ],
   "execution_count": 74
  },
  {
   "metadata": {
    "ExecuteTime": {
     "end_time": "2025-10-31T10:53:11.199804Z",
     "start_time": "2025-10-31T10:53:11.095241Z"
    }
   },
   "cell_type": "code",
   "source": "",
   "id": "6b0f418901a18ac6",
   "outputs": [
    {
     "ename": "AttributeError",
     "evalue": "module 'sns' has no attribute 'heatmap'",
     "output_type": "error",
     "traceback": [
      "\u001B[31m---------------------------------------------------------------------------\u001B[39m",
      "\u001B[31mAttributeError\u001B[39m                            Traceback (most recent call last)",
      "\u001B[36mCell\u001B[39m\u001B[36m \u001B[39m\u001B[32mIn[75]\u001B[39m\u001B[32m, line 3\u001B[39m\n\u001B[32m      1\u001B[39m \u001B[38;5;66;03m#visualisation\u001B[39;00m\n\u001B[32m      2\u001B[39m plt.figure(figsize = (\u001B[32m6\u001B[39m,\u001B[32m4\u001B[39m))\n\u001B[32m----> \u001B[39m\u001B[32m3\u001B[39m \u001B[43msns\u001B[49m\u001B[43m.\u001B[49m\u001B[43mheatmap\u001B[49m\n",
      "\u001B[31mAttributeError\u001B[39m: module 'sns' has no attribute 'heatmap'"
     ]
    },
    {
     "data": {
      "text/plain": [
       "<Figure size 600x400 with 0 Axes>"
      ]
     },
     "metadata": {},
     "output_type": "display_data",
     "jetTransient": {
      "display_id": null
     }
    }
   ],
   "execution_count": 75
  }
 ],
 "metadata": {
  "kernelspec": {
   "display_name": "Python 3",
   "language": "python",
   "name": "python3"
  },
  "language_info": {
   "codemirror_mode": {
    "name": "ipython",
    "version": 2
   },
   "file_extension": ".py",
   "mimetype": "text/x-python",
   "name": "python",
   "nbconvert_exporter": "python",
   "pygments_lexer": "ipython2",
   "version": "2.7.6"
  }
 },
 "nbformat": 4,
 "nbformat_minor": 5
}
